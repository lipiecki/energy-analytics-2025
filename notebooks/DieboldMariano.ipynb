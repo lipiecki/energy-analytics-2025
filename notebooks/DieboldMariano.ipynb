{
  "cells": [
    {
      "cell_type": "markdown",
      "metadata": {
        "colab_type": "text",
        "id": "view-in-github"
      },
      "source": [
        "<a href=\"https://colab.research.google.com/github/lipiecki/energy-analytics-2025/blob/main/notebooks/DieboldMariano.ipynb\" target=\"_parent\"><img src=\"https://colab.research.google.com/assets/colab-badge.svg\" alt=\"Open In Colab\"/></a>"
      ]
    },
    {
      "cell_type": "markdown",
      "metadata": {
        "id": "b1Svn99OMwPc"
      },
      "source": [
        "# Testing for equal predictive performance with the Diebold-Mariano test"
      ]
    },
    {
      "cell_type": "code",
      "execution_count": 1,
      "metadata": {
        "id": "choB3FgljvsF"
      },
      "outputs": [],
      "source": [
        "import pandas as pd\n",
        "import numpy as np\n",
        "from scipy import optimize\n",
        "from scipy.stats import norm\n",
        "from sklearn.linear_model import LinearRegression\n",
        "from sklearn.metrics import mean_squared_error, mean_absolute_error"
      ]
    },
    {
      "cell_type": "markdown",
      "metadata": {
        "id": "ZD6Dec7QMwPd"
      },
      "source": [
        "### Load one of the included datasets - EPEX or GEFCom"
      ]
    },
    {
      "cell_type": "code",
      "execution_count": 2,
      "metadata": {
        "id": "cyRsFcXzJbP4"
      },
      "outputs": [],
      "source": [
        "dataset = \"epex\" # \"epex\" or \"gefcom\"\n",
        "url = f\"https://raw.githubusercontent.com/lipiecki/energy-analytics-2025/refs/heads/main/data/{dataset}.csv\"\n",
        "local = f\"../data/{dataset}.csv\""
      ]
    },
    {
      "cell_type": "code",
      "execution_count": 3,
      "metadata": {
        "colab": {
          "base_uri": "https://localhost:8080/",
          "height": 258
        },
        "id": "9TZcSuE1JdnC",
        "outputId": "99a457b2-41ce-42f9-adb5-5a58f7ddd7bc"
      },
      "outputs": [
        {
          "data": {
            "text/html": [
              "<div>\n",
              "<style scoped>\n",
              "    .dataframe tbody tr th:only-of-type {\n",
              "        vertical-align: middle;\n",
              "    }\n",
              "\n",
              "    .dataframe tbody tr th {\n",
              "        vertical-align: top;\n",
              "    }\n",
              "\n",
              "    .dataframe thead th {\n",
              "        text-align: right;\n",
              "    }\n",
              "</style>\n",
              "<table border=\"1\" class=\"dataframe\">\n",
              "  <thead>\n",
              "    <tr style=\"text-align: right;\">\n",
              "      <th></th>\n",
              "      <th></th>\n",
              "      <th>price</th>\n",
              "      <th>load_da</th>\n",
              "      <th>load_real</th>\n",
              "      <th>day_of_week</th>\n",
              "    </tr>\n",
              "    <tr>\n",
              "      <th>date</th>\n",
              "      <th>hour</th>\n",
              "      <th></th>\n",
              "      <th></th>\n",
              "      <th></th>\n",
              "      <th></th>\n",
              "    </tr>\n",
              "  </thead>\n",
              "  <tbody>\n",
              "    <tr>\n",
              "      <th rowspan=\"5\" valign=\"top\">20220101</th>\n",
              "      <th>0</th>\n",
              "      <td>50.05</td>\n",
              "      <td>41989.50</td>\n",
              "      <td>43915.50</td>\n",
              "      <td>6</td>\n",
              "    </tr>\n",
              "    <tr>\n",
              "      <th>1</th>\n",
              "      <td>41.33</td>\n",
              "      <td>40105.50</td>\n",
              "      <td>41535.75</td>\n",
              "      <td>6</td>\n",
              "    </tr>\n",
              "    <tr>\n",
              "      <th>2</th>\n",
              "      <td>43.22</td>\n",
              "      <td>38784.00</td>\n",
              "      <td>40480.75</td>\n",
              "      <td>6</td>\n",
              "    </tr>\n",
              "    <tr>\n",
              "      <th>3</th>\n",
              "      <td>45.46</td>\n",
              "      <td>37751.00</td>\n",
              "      <td>39564.00</td>\n",
              "      <td>6</td>\n",
              "    </tr>\n",
              "    <tr>\n",
              "      <th>4</th>\n",
              "      <td>37.67</td>\n",
              "      <td>37877.25</td>\n",
              "      <td>39338.25</td>\n",
              "      <td>6</td>\n",
              "    </tr>\n",
              "  </tbody>\n",
              "</table>\n",
              "</div>"
            ],
            "text/plain": [
              "               price   load_da  load_real  day_of_week\n",
              "date     hour                                         \n",
              "20220101 0     50.05  41989.50   43915.50            6\n",
              "         1     41.33  40105.50   41535.75            6\n",
              "         2     43.22  38784.00   40480.75            6\n",
              "         3     45.46  37751.00   39564.00            6\n",
              "         4     37.67  37877.25   39338.25            6"
            ]
          },
          "execution_count": 3,
          "metadata": {},
          "output_type": "execute_result"
        }
      ],
      "source": [
        "df = pd.read_csv(url, delimiter=',', header=0, index_col=[0, 1]) # use `local` instead or `url` when running the notebook offline\n",
        "df.head()"
      ]
    },
    {
      "cell_type": "markdown",
      "metadata": {
        "id": "JED_r4GWMwPe"
      },
      "source": [
        "### Prepare the explanatory variables for the regression models"
      ]
    },
    {
      "cell_type": "code",
      "execution_count": 4,
      "metadata": {
        "colab": {
          "base_uri": "https://localhost:8080/",
          "height": 475
        },
        "id": "9fOLao6RKWBF",
        "outputId": "9994500e-1a41-4d76-c743-80421496a8c8"
      },
      "outputs": [
        {
          "data": {
            "text/html": [
              "<div>\n",
              "<style scoped>\n",
              "    .dataframe tbody tr th:only-of-type {\n",
              "        vertical-align: middle;\n",
              "    }\n",
              "\n",
              "    .dataframe tbody tr th {\n",
              "        vertical-align: top;\n",
              "    }\n",
              "\n",
              "    .dataframe thead th {\n",
              "        text-align: right;\n",
              "    }\n",
              "</style>\n",
              "<table border=\"1\" class=\"dataframe\">\n",
              "  <thead>\n",
              "    <tr style=\"text-align: right;\">\n",
              "      <th></th>\n",
              "      <th></th>\n",
              "      <th>price</th>\n",
              "      <th>load_da</th>\n",
              "      <th>load_real</th>\n",
              "      <th>day_of_week</th>\n",
              "      <th>lag1</th>\n",
              "      <th>lag2</th>\n",
              "      <th>lag7</th>\n",
              "    </tr>\n",
              "    <tr>\n",
              "      <th>date</th>\n",
              "      <th>hour</th>\n",
              "      <th></th>\n",
              "      <th></th>\n",
              "      <th></th>\n",
              "      <th></th>\n",
              "      <th></th>\n",
              "      <th></th>\n",
              "      <th></th>\n",
              "    </tr>\n",
              "  </thead>\n",
              "  <tbody>\n",
              "    <tr>\n",
              "      <th rowspan=\"5\" valign=\"top\">20220108</th>\n",
              "      <th>0</th>\n",
              "      <td>164.17</td>\n",
              "      <td>51093.00</td>\n",
              "      <td>52694.75</td>\n",
              "      <td>6</td>\n",
              "      <td>128.92</td>\n",
              "      <td>99.85</td>\n",
              "      <td>50.05</td>\n",
              "    </tr>\n",
              "    <tr>\n",
              "      <th>1</th>\n",
              "      <td>152.83</td>\n",
              "      <td>49105.50</td>\n",
              "      <td>50532.50</td>\n",
              "      <td>6</td>\n",
              "      <td>118.40</td>\n",
              "      <td>101.32</td>\n",
              "      <td>41.33</td>\n",
              "    </tr>\n",
              "    <tr>\n",
              "      <th>2</th>\n",
              "      <td>166.00</td>\n",
              "      <td>48075.25</td>\n",
              "      <td>49608.25</td>\n",
              "      <td>6</td>\n",
              "      <td>103.01</td>\n",
              "      <td>110.01</td>\n",
              "      <td>43.22</td>\n",
              "    </tr>\n",
              "    <tr>\n",
              "      <th>3</th>\n",
              "      <td>160.86</td>\n",
              "      <td>47763.50</td>\n",
              "      <td>49543.25</td>\n",
              "      <td>6</td>\n",
              "      <td>101.91</td>\n",
              "      <td>111.55</td>\n",
              "      <td>45.46</td>\n",
              "    </tr>\n",
              "    <tr>\n",
              "      <th>4</th>\n",
              "      <td>160.00</td>\n",
              "      <td>47900.25</td>\n",
              "      <td>49077.25</td>\n",
              "      <td>6</td>\n",
              "      <td>101.98</td>\n",
              "      <td>123.37</td>\n",
              "      <td>37.67</td>\n",
              "    </tr>\n",
              "    <tr>\n",
              "      <th>...</th>\n",
              "      <th>...</th>\n",
              "      <td>...</td>\n",
              "      <td>...</td>\n",
              "      <td>...</td>\n",
              "      <td>...</td>\n",
              "      <td>...</td>\n",
              "      <td>...</td>\n",
              "      <td>...</td>\n",
              "    </tr>\n",
              "    <tr>\n",
              "      <th rowspan=\"5\" valign=\"top\">20241231</th>\n",
              "      <th>19</th>\n",
              "      <td>200.00</td>\n",
              "      <td>56083.25</td>\n",
              "      <td>54868.50</td>\n",
              "      <td>2</td>\n",
              "      <td>165.93</td>\n",
              "      <td>206.72</td>\n",
              "      <td>105.66</td>\n",
              "    </tr>\n",
              "    <tr>\n",
              "      <th>20</th>\n",
              "      <td>204.61</td>\n",
              "      <td>53423.00</td>\n",
              "      <td>51940.50</td>\n",
              "      <td>2</td>\n",
              "      <td>184.44</td>\n",
              "      <td>194.97</td>\n",
              "      <td>102.56</td>\n",
              "    </tr>\n",
              "    <tr>\n",
              "      <th>21</th>\n",
              "      <td>186.25</td>\n",
              "      <td>50937.50</td>\n",
              "      <td>50559.50</td>\n",
              "      <td>2</td>\n",
              "      <td>203.88</td>\n",
              "      <td>195.95</td>\n",
              "      <td>94.63</td>\n",
              "    </tr>\n",
              "    <tr>\n",
              "      <th>22</th>\n",
              "      <td>146.52</td>\n",
              "      <td>47657.50</td>\n",
              "      <td>49133.50</td>\n",
              "      <td>2</td>\n",
              "      <td>168.46</td>\n",
              "      <td>167.31</td>\n",
              "      <td>99.04</td>\n",
              "    </tr>\n",
              "    <tr>\n",
              "      <th>23</th>\n",
              "      <td>141.68</td>\n",
              "      <td>45257.25</td>\n",
              "      <td>49607.50</td>\n",
              "      <td>2</td>\n",
              "      <td>162.92</td>\n",
              "      <td>149.98</td>\n",
              "      <td>90.00</td>\n",
              "    </tr>\n",
              "  </tbody>\n",
              "</table>\n",
              "<p>26136 rows × 7 columns</p>\n",
              "</div>"
            ],
            "text/plain": [
              "                price   load_da  load_real  day_of_week    lag1    lag2  \\\n",
              "date     hour                                                             \n",
              "20220108 0     164.17  51093.00   52694.75            6  128.92   99.85   \n",
              "         1     152.83  49105.50   50532.50            6  118.40  101.32   \n",
              "         2     166.00  48075.25   49608.25            6  103.01  110.01   \n",
              "         3     160.86  47763.50   49543.25            6  101.91  111.55   \n",
              "         4     160.00  47900.25   49077.25            6  101.98  123.37   \n",
              "...               ...       ...        ...          ...     ...     ...   \n",
              "20241231 19    200.00  56083.25   54868.50            2  165.93  206.72   \n",
              "         20    204.61  53423.00   51940.50            2  184.44  194.97   \n",
              "         21    186.25  50937.50   50559.50            2  203.88  195.95   \n",
              "         22    146.52  47657.50   49133.50            2  168.46  167.31   \n",
              "         23    141.68  45257.25   49607.50            2  162.92  149.98   \n",
              "\n",
              "                 lag7  \n",
              "date     hour          \n",
              "20220108 0      50.05  \n",
              "         1      41.33  \n",
              "         2      43.22  \n",
              "         3      45.46  \n",
              "         4      37.67  \n",
              "...               ...  \n",
              "20241231 19    105.66  \n",
              "         20    102.56  \n",
              "         21     94.63  \n",
              "         22     99.04  \n",
              "         23     90.00  \n",
              "\n",
              "[26136 rows x 7 columns]"
            ]
          },
          "execution_count": 4,
          "metadata": {},
          "output_type": "execute_result"
        }
      ],
      "source": [
        "# create lag columns for prices from previous days\n",
        "df['lag1'] = df['price'].shift(24)  # price one day ago (24 hours)\n",
        "df['lag2'] = df['price'].shift(48)  # price two days ago (48 hours)\n",
        "df['lag7'] = df['price'].shift(168) # price seven days ago (168 hours)\n",
        "df.dropna(inplace=True)\n",
        "df"
      ]
    },
    {
      "cell_type": "markdown",
      "metadata": {
        "id": "y2XfESYxMwPe"
      },
      "source": [
        "### Generate naive forecasts\n",
        "Take the price from one day ago or a week ago, depending on the day of the week"
      ]
    },
    {
      "cell_type": "code",
      "execution_count": 5,
      "metadata": {
        "id": "Pz-lxfv-qOI_"
      },
      "outputs": [],
      "source": [
        "# function to generate forecast based on current day of the week\n",
        "def generate_naive(row):\n",
        "    if row['day_of_week'] > 1 and row['day_of_week'] <= 5:  # Tuesday to Friday\n",
        "        return row['lag1']\n",
        "    else:  # Saturday to Monday\n",
        "        return row['lag7']\n",
        "\n",
        "# apply the function to each row to generate the naive forecast\n",
        "df['naive_forecast'] = df.apply(generate_naive, axis=1)"
      ]
    },
    {
      "cell_type": "markdown",
      "metadata": {
        "id": "p249e1yyMwPf"
      },
      "source": [
        "### Define functions for the Holt-Winters exponential smoothing model"
      ]
    },
    {
      "cell_type": "code",
      "execution_count": 6,
      "metadata": {
        "id": "40CA0DWQjvsH"
      },
      "outputs": [],
      "source": [
        "# Holt-Winters function definitions\n",
        "def holtwinters(params, s, obs):\n",
        "    \"\"\"\n",
        "    Calculates forecasts using Holt-Winters exponential smoothing.\n",
        "\n",
        "    Args:\n",
        "        params (tuple): parameters in the form of a 3-tuple (alpha, beta, gamma)\n",
        "        s (int): seasonality period\n",
        "        obs (1d numpy array): observed values of the timeseries to forecast\n",
        "\n",
        "    Returns:\n",
        "        2-tuple of 1d numpy arrays: first element is the array of forecasts, second is the array of corresponding observations\n",
        "    \"\"\"\n",
        "    alpha, beta, gamma = params\n",
        "    level = np.zeros(len(obs))\n",
        "    trend = np.zeros(len(obs))\n",
        "    season = np.zeros(len(obs))\n",
        "    forecast = np.zeros(len(obs))\n",
        "\n",
        "    # set initial values\n",
        "    level[s-1] = np.mean(obs[:s])\n",
        "    trend[s-1] = (np.mean(obs[s:2*s]) - np.mean(obs[:s]))/s\n",
        "    season[:s] = obs[:s] - level[s-1]\n",
        "\n",
        "    # iteratively compute consecutive forecasts\n",
        "    for t in range(s, len(obs)-1):\n",
        "        level[t] = alpha*(obs[t] - season[t-s]) + (1-alpha)*(level[t-1] + trend[t-1])\n",
        "        trend[t] = beta*(level[t] - level[t-1]) + (1-beta)*trend[t-1]\n",
        "        season[t] = gamma*(obs[t] - level[t]) + (1-gamma)*season[t-s]\n",
        "        forecast[t+1] = level[t] + trend[t] + season[t-s+1]\n",
        "\n",
        "    # return forecasts starting from the (2s+1)-th timestep\n",
        "    return forecast[2*s:]\n",
        "\n",
        "def loss_hw(params, s, obs):\n",
        "    \"\"\"\n",
        "    Calculates mean squared error of forecasts from `holtwinters(params, s, obs)`.\n",
        "    \"\"\"\n",
        "    forecasts = holtwinters(params, s, obs)\n",
        "    return mean_squared_error(forecasts, obs[2*s:])\n",
        "\n",
        "def calibrate_hw(s, obs):\n",
        "    \"\"\"\n",
        "    Find optimal values of `params` for `holtwinters(params, s, obs)`\n",
        "    \"\"\"\n",
        "    opt_params = optimize.minimize(loss_hw, (0.5, 0.5, 0.5), args = (s, obs), bounds = ((0, 1), (0, 1), (0, 1)))\n",
        "    return opt_params.x"
      ]
    },
    {
      "cell_type": "markdown",
      "metadata": {
        "id": "fCI6sbBsMwPf"
      },
      "source": [
        "### Specify the parameters for forecasting models"
      ]
    },
    {
      "cell_type": "code",
      "execution_count": 7,
      "metadata": {
        "id": "l0K4_HvfjvsI"
      },
      "outputs": [],
      "source": [
        "season = 7\n",
        "window = 358"
      ]
    },
    {
      "cell_type": "markdown",
      "metadata": {
        "id": "JBwozcUtMwPf"
      },
      "source": [
        "### Prepare the input and output data for forecasting models"
      ]
    },
    {
      "cell_type": "code",
      "execution_count": 8,
      "metadata": {
        "id": "6fdKKUStMwPf"
      },
      "outputs": [],
      "source": [
        "hour = 19\n",
        "df = df[[df.index[i][1] == hour for i in range(len(df))]].copy()\n",
        "X = np.array(df[['lag1', 'lag2', 'lag7']])\n",
        "Y = np.array(df['price'])"
      ]
    },
    {
      "cell_type": "markdown",
      "metadata": {
        "id": "-ZXWL94rMwPf"
      },
      "source": [
        "### Generate forecasts with the AR and HW models"
      ]
    },
    {
      "cell_type": "code",
      "execution_count": 9,
      "metadata": {
        "colab": {
          "base_uri": "https://localhost:8080/"
        },
        "id": "MJJUgWSxKj2x",
        "outputId": "ac75444c-59e7-45ba-cb86-8fd6b76c8448"
      },
      "outputs": [],
      "source": [
        "df['ar_forecast'] = np.nan\n",
        "df['hw_forecast'] = np.nan\n",
        "for i in range(window, len(df)):\n",
        "      # AR model\n",
        "      X_window = X[i-window:i, :]\n",
        "      Y_window = Y[i-window:i]\n",
        "      ar = LinearRegression().fit(X_window, Y_window)\n",
        "      df.iloc[i, df.columns.get_loc('ar_forecast')] = ar.predict([X[i, :]])\n",
        "\n",
        "      # HW model\n",
        "      optimal_params = calibrate_hw(season, Y_window)\n",
        "      df.iloc[i, df.columns.get_loc('hw_forecast')] = holtwinters(optimal_params, season, np.hstack((Y_window, Y[i])))[-1]"
      ]
    },
    {
      "cell_type": "markdown",
      "metadata": {
        "id": "rWg-V0mjMwPf"
      },
      "source": [
        "### Remove days without forecasts"
      ]
    },
    {
      "cell_type": "code",
      "execution_count": 10,
      "metadata": {
        "colab": {
          "base_uri": "https://localhost:8080/",
          "height": 562
        },
        "id": "L2TI9BfOMwPf",
        "outputId": "9385e540-c142-483d-9daf-a7056ecfbf64"
      },
      "outputs": [
        {
          "data": {
            "text/html": [
              "<div>\n",
              "<style scoped>\n",
              "    .dataframe tbody tr th:only-of-type {\n",
              "        vertical-align: middle;\n",
              "    }\n",
              "\n",
              "    .dataframe tbody tr th {\n",
              "        vertical-align: top;\n",
              "    }\n",
              "\n",
              "    .dataframe thead th {\n",
              "        text-align: right;\n",
              "    }\n",
              "</style>\n",
              "<table border=\"1\" class=\"dataframe\">\n",
              "  <thead>\n",
              "    <tr style=\"text-align: right;\">\n",
              "      <th></th>\n",
              "      <th></th>\n",
              "      <th>price</th>\n",
              "      <th>load_da</th>\n",
              "      <th>load_real</th>\n",
              "      <th>day_of_week</th>\n",
              "      <th>lag1</th>\n",
              "      <th>lag2</th>\n",
              "      <th>lag7</th>\n",
              "      <th>naive_forecast</th>\n",
              "      <th>ar_forecast</th>\n",
              "      <th>hw_forecast</th>\n",
              "    </tr>\n",
              "    <tr>\n",
              "      <th>date</th>\n",
              "      <th>hour</th>\n",
              "      <th></th>\n",
              "      <th></th>\n",
              "      <th></th>\n",
              "      <th></th>\n",
              "      <th></th>\n",
              "      <th></th>\n",
              "      <th></th>\n",
              "      <th></th>\n",
              "      <th></th>\n",
              "      <th></th>\n",
              "    </tr>\n",
              "  </thead>\n",
              "  <tbody>\n",
              "    <tr>\n",
              "      <th>20230101</th>\n",
              "      <th>19</th>\n",
              "      <td>54.95</td>\n",
              "      <td>48131.75</td>\n",
              "      <td>47391.25</td>\n",
              "      <td>7</td>\n",
              "      <td>-1.01</td>\n",
              "      <td>13.79</td>\n",
              "      <td>110.09</td>\n",
              "      <td>110.09</td>\n",
              "      <td>41.329874</td>\n",
              "      <td>-27.051735</td>\n",
              "    </tr>\n",
              "    <tr>\n",
              "      <th>20230102</th>\n",
              "      <th>19</th>\n",
              "      <td>164.46</td>\n",
              "      <td>62431.75</td>\n",
              "      <td>59401.00</td>\n",
              "      <td>1</td>\n",
              "      <td>54.95</td>\n",
              "      <td>-1.01</td>\n",
              "      <td>59.17</td>\n",
              "      <td>59.17</td>\n",
              "      <td>76.798494</td>\n",
              "      <td>102.508728</td>\n",
              "    </tr>\n",
              "    <tr>\n",
              "      <th>20230103</th>\n",
              "      <th>19</th>\n",
              "      <td>160.99</td>\n",
              "      <td>63632.50</td>\n",
              "      <td>59620.00</td>\n",
              "      <td>2</td>\n",
              "      <td>164.46</td>\n",
              "      <td>54.95</td>\n",
              "      <td>156.93</td>\n",
              "      <td>164.46</td>\n",
              "      <td>179.174676</td>\n",
              "      <td>175.700309</td>\n",
              "    </tr>\n",
              "    <tr>\n",
              "      <th>20230104</th>\n",
              "      <th>19</th>\n",
              "      <td>66.61</td>\n",
              "      <td>64663.75</td>\n",
              "      <td>64179.50</td>\n",
              "      <td>3</td>\n",
              "      <td>160.99</td>\n",
              "      <td>164.46</td>\n",
              "      <td>71.77</td>\n",
              "      <td>160.99</td>\n",
              "      <td>154.223589</td>\n",
              "      <td>155.151377</td>\n",
              "    </tr>\n",
              "    <tr>\n",
              "      <th>20230105</th>\n",
              "      <th>19</th>\n",
              "      <td>177.98</td>\n",
              "      <td>65850.75</td>\n",
              "      <td>59456.75</td>\n",
              "      <td>4</td>\n",
              "      <td>66.61</td>\n",
              "      <td>160.99</td>\n",
              "      <td>47.94</td>\n",
              "      <td>66.61</td>\n",
              "      <td>74.976914</td>\n",
              "      <td>109.466880</td>\n",
              "    </tr>\n",
              "    <tr>\n",
              "      <th>...</th>\n",
              "      <th>...</th>\n",
              "      <td>...</td>\n",
              "      <td>...</td>\n",
              "      <td>...</td>\n",
              "      <td>...</td>\n",
              "      <td>...</td>\n",
              "      <td>...</td>\n",
              "      <td>...</td>\n",
              "      <td>...</td>\n",
              "      <td>...</td>\n",
              "      <td>...</td>\n",
              "    </tr>\n",
              "    <tr>\n",
              "      <th>20241227</th>\n",
              "      <th>19</th>\n",
              "      <td>146.43</td>\n",
              "      <td>52284.00</td>\n",
              "      <td>55356.25</td>\n",
              "      <td>5</td>\n",
              "      <td>135.71</td>\n",
              "      <td>118.14</td>\n",
              "      <td>129.00</td>\n",
              "      <td>135.71</td>\n",
              "      <td>139.308567</td>\n",
              "      <td>90.061067</td>\n",
              "    </tr>\n",
              "    <tr>\n",
              "      <th>20241228</th>\n",
              "      <th>19</th>\n",
              "      <td>126.87</td>\n",
              "      <td>52479.75</td>\n",
              "      <td>54171.50</td>\n",
              "      <td>6</td>\n",
              "      <td>146.43</td>\n",
              "      <td>135.71</td>\n",
              "      <td>145.83</td>\n",
              "      <td>145.83</td>\n",
              "      <td>149.153567</td>\n",
              "      <td>89.181260</td>\n",
              "    </tr>\n",
              "    <tr>\n",
              "      <th>20241229</th>\n",
              "      <th>19</th>\n",
              "      <td>206.72</td>\n",
              "      <td>50431.00</td>\n",
              "      <td>54677.75</td>\n",
              "      <td>7</td>\n",
              "      <td>126.87</td>\n",
              "      <td>146.43</td>\n",
              "      <td>159.19</td>\n",
              "      <td>159.19</td>\n",
              "      <td>140.394251</td>\n",
              "      <td>99.361308</td>\n",
              "    </tr>\n",
              "    <tr>\n",
              "      <th>20241230</th>\n",
              "      <th>19</th>\n",
              "      <td>165.93</td>\n",
              "      <td>56645.25</td>\n",
              "      <td>60526.25</td>\n",
              "      <td>1</td>\n",
              "      <td>206.72</td>\n",
              "      <td>126.87</td>\n",
              "      <td>129.78</td>\n",
              "      <td>129.78</td>\n",
              "      <td>181.277075</td>\n",
              "      <td>217.906656</td>\n",
              "    </tr>\n",
              "    <tr>\n",
              "      <th>20241231</th>\n",
              "      <th>19</th>\n",
              "      <td>200.00</td>\n",
              "      <td>56083.25</td>\n",
              "      <td>54868.50</td>\n",
              "      <td>2</td>\n",
              "      <td>165.93</td>\n",
              "      <td>206.72</td>\n",
              "      <td>105.66</td>\n",
              "      <td>165.93</td>\n",
              "      <td>149.461215</td>\n",
              "      <td>185.209383</td>\n",
              "    </tr>\n",
              "  </tbody>\n",
              "</table>\n",
              "<p>731 rows × 10 columns</p>\n",
              "</div>"
            ],
            "text/plain": [
              "                price   load_da  load_real  day_of_week    lag1    lag2  \\\n",
              "date     hour                                                             \n",
              "20230101 19     54.95  48131.75   47391.25            7   -1.01   13.79   \n",
              "20230102 19    164.46  62431.75   59401.00            1   54.95   -1.01   \n",
              "20230103 19    160.99  63632.50   59620.00            2  164.46   54.95   \n",
              "20230104 19     66.61  64663.75   64179.50            3  160.99  164.46   \n",
              "20230105 19    177.98  65850.75   59456.75            4   66.61  160.99   \n",
              "...               ...       ...        ...          ...     ...     ...   \n",
              "20241227 19    146.43  52284.00   55356.25            5  135.71  118.14   \n",
              "20241228 19    126.87  52479.75   54171.50            6  146.43  135.71   \n",
              "20241229 19    206.72  50431.00   54677.75            7  126.87  146.43   \n",
              "20241230 19    165.93  56645.25   60526.25            1  206.72  126.87   \n",
              "20241231 19    200.00  56083.25   54868.50            2  165.93  206.72   \n",
              "\n",
              "                 lag7  naive_forecast  ar_forecast  hw_forecast  \n",
              "date     hour                                                    \n",
              "20230101 19    110.09          110.09    41.329874   -27.051735  \n",
              "20230102 19     59.17           59.17    76.798494   102.508728  \n",
              "20230103 19    156.93          164.46   179.174676   175.700309  \n",
              "20230104 19     71.77          160.99   154.223589   155.151377  \n",
              "20230105 19     47.94           66.61    74.976914   109.466880  \n",
              "...               ...             ...          ...          ...  \n",
              "20241227 19    129.00          135.71   139.308567    90.061067  \n",
              "20241228 19    145.83          145.83   149.153567    89.181260  \n",
              "20241229 19    159.19          159.19   140.394251    99.361308  \n",
              "20241230 19    129.78          129.78   181.277075   217.906656  \n",
              "20241231 19    105.66          165.93   149.461215   185.209383  \n",
              "\n",
              "[731 rows x 10 columns]"
            ]
          },
          "execution_count": 10,
          "metadata": {},
          "output_type": "execute_result"
        }
      ],
      "source": [
        "df.dropna(inplace=True)\n",
        "df"
      ]
    },
    {
      "cell_type": "markdown",
      "metadata": {
        "id": "LaHVUZgVMwPf"
      },
      "source": [
        "### Implement the Diebold-Mariano test"
      ]
    },
    {
      "cell_type": "code",
      "execution_count": 11,
      "metadata": {
        "id": "U4t2UD1JQnLc"
      },
      "outputs": [],
      "source": [
        "# Diebold-Mariano function definition\n",
        "def DM(obs, forecast1, forecast2):\n",
        "\n",
        "    # compute the loss differential series\n",
        "    loss_diff = np.abs(obs - forecast1) - np.abs(obs - forecast2)\n",
        "\n",
        "    # calculate the test statistic\n",
        "    mu = np.mean(loss_diff)\n",
        "    sigma = np.std(loss_diff, ddof=1)\n",
        "    z = np.sqrt(loss_diff.size)*mu/sigma\n",
        "\n",
        "    pvalue = 1 - norm.cdf(z)\n",
        "\n",
        "    return pvalue"
      ]
    },
    {
      "cell_type": "markdown",
      "metadata": {
        "id": "9pXb0P2uMwPg"
      },
      "source": [
        "### Calculate the DM test matrix"
      ]
    },
    {
      "cell_type": "code",
      "execution_count": 12,
      "metadata": {
        "id": "l4MAeAeBuE6G"
      },
      "outputs": [],
      "source": [
        "forecasts = ['naive', 'ar', 'hw']\n",
        "pvalue_matrix = np.empty((3, 3))\n",
        "for f1 in range(len(forecasts)):\n",
        "  for f2 in range(len(forecasts)):\n",
        "      if f1 != f2:\n",
        "        pvalue_matrix[f1, f2] = DM(np.array(df['price']),\n",
        "                                df[forecasts[f1]+\"_forecast\"],\n",
        "                                df[forecasts[f2]+\"_forecast\"])\n",
        "      else:\n",
        "        pvalue_matrix[f1, f2] = np.nan"
      ]
    },
    {
      "cell_type": "markdown",
      "metadata": {
        "id": "dNb0Rqr-MwPg"
      },
      "source": [
        "### Plot the DM test matrix"
      ]
    },
    {
      "cell_type": "code",
      "execution_count": 13,
      "metadata": {
        "colab": {
          "base_uri": "https://localhost:8080/",
          "height": 566
        },
        "id": "Slg9TU3fwwNA",
        "outputId": "4851a512-4a8b-4cf5-8469-459a9763f6a7"
      },
      "outputs": [
        {
          "data": {
            "image/png": "[encoded data removed]",
            "text/plain": [
              "<Figure size 800x600 with 2 Axes>"
            ]
          },
          "metadata": {},
          "output_type": "display_data"
        }
      ],
      "source": [
        "import matplotlib.pyplot as plt\n",
        "import seaborn as sns\n",
        "from matplotlib.colors import LinearSegmentedColormap\n",
        "\n",
        "colors = [(0, 'green'), (0.05, 'yellow'), (0.075, 'red'), (0.1, 'black'), (1, 'black')]\n",
        "cmap = LinearSegmentedColormap.from_list('custom_cmap', colors)\n",
        "\n",
        "# create the heatmap of p-values from the DM test\n",
        "plt.figure(figsize=(8, 6))\n",
        "sns.heatmap(pvalue_matrix, annot=True, cmap=cmap,\n",
        "            cbar_kws={'boundaries': [i/1000 for i in range(0, 101)] + [1]*10, 'ticks': [i/1000 for i in range(0, 101, 10)] + [1]},\n",
        "            xticklabels=forecasts, yticklabels=forecasts)\n",
        "plt.title(\"DM p-values\")\n",
        "plt.show()"
      ]
    },
    {
      "cell_type": "markdown",
      "metadata": {
        "id": "g3ROyR1QMwPg"
      },
      "source": [
        "### Print MAE of the forecasts"
      ]
    },
    {
      "cell_type": "code",
      "execution_count": 14,
      "metadata": {
        "colab": {
          "base_uri": "https://localhost:8080/"
        },
        "id": "s2YRcjXJMwPg",
        "outputId": "bc4eee2c-d67e-4d36-b64a-0bd5a294bdad"
      },
      "outputs": [
        {
          "name": "stdout",
          "output_type": "stream",
          "text": [
            "------------------------------\n",
            "Mean Absolute Error\n",
            "------------------------------\n",
            "AR: 33.99276003639692\n",
            "HW: 35.25777402119037\n",
            "Naive: 37.51248974008209\n"
          ]
        }
      ],
      "source": [
        "print(\"-\"*30)\n",
        "print(\"Mean Absolute Error\")\n",
        "print(\"-\"*30)\n",
        "print(f\"AR: {mean_absolute_error(df['price'], df['ar_forecast'])}\")\n",
        "print(f\"HW: {mean_absolute_error(df['price'], df['hw_forecast'])}\")\n",
        "print(f\"Naive: {mean_absolute_error(df['price'], df['naive_forecast'])}\")"
      ]
    }
  ],
  "metadata": {
    "colab": {
      "include_colab_link": true,
      "provenance": []
    },
    "kernelspec": {
      "display_name": "didactics",
      "language": "python",
      "name": "python3"
    },
    "language_info": {
      "codemirror_mode": {
        "name": "ipython",
        "version": 3
      },
      "file_extension": ".py",
      "mimetype": "text/x-python",
      "name": "python",
      "nbconvert_exporter": "python",
      "pygments_lexer": "ipython3",
      "version": "3.12.7"
    }
  },
  "nbformat": 4,
  "nbformat_minor": 0
}
